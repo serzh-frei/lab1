{
 "cells": [
  {
   "cell_type": "markdown",
   "id": "064d471a-7165-404a-9c5d-106a86857c17",
   "metadata": {},
   "source": [
    "## Задание 1\n",
    "\n",
    "Создайте новую **Markdown-ячейку** и: \n",
    "+ Напишите заголовок \"Практическое задание №1\".\n",
    "+ Добавьте **жирный** и *курсивный* текст.\n",
    "+ Создайте нумерованный и маркированный списки.\n",
    "+ Вставьте согласно индивидуального задания формулу\n",
    "+ Вставьте изображение через !Описание(URL)\n",
    "\n",
    "Создайте ячейку **Python-кода** и: \n",
    "+ Запросите у пользователя его имя с помощью input() .\n",
    "+ Выведите приветствие: `\"Привет, <имя>! Добро пожаловать в JupyterLab / Google Colab!\".`\n",
    "+ Запустите ячейку `( Shift + Enter ).`"
   ]
  },
  {
   "cell_type": "markdown",
   "id": "e7f0fd12-0189-4152-99d9-9fddf5bf372e",
   "metadata": {},
   "source": [
    "## Практическое задание №1.\n",
    "\n",
    "Это **жирный текст**, а это *курсивный* текст.\n",
    "\n",
    "# Нумерованный список:\n",
    "1. Первый пункт.\n",
    "2. Второй пункт.\n",
    "3. Третий пункт.\n",
    "\n",
    "# Маркированный список:\n",
    "+ Первый элемент.\n",
    "+ Второй элемент.\n",
    "+ Третий элемент.\n",
    "\n",
    "# Вставленная формула:\n",
    "$$x = r \\cos(\\theta), \\quad y = r \\sin(\\theta).$$\n",
    "\n",
    "# Изображение:\n",
    "![Новороссийская бухта](nvrsk_bay.webp)"
   ]
  },
  {
   "cell_type": "code",
   "execution_count": 1,
   "id": "90bf1247-8bdc-404f-9617-864aa951ca8e",
   "metadata": {},
   "outputs": [
    {
     "name": "stdin",
     "output_type": "stream",
     "text": [
      " Cмедж\n"
     ]
    },
    {
     "name": "stdout",
     "output_type": "stream",
     "text": [
      "Привет, Cмедж! Добро пожаловать в JupyterLab\n"
     ]
    }
   ],
   "source": [
    "a = input()\n",
    "print(f'Привет, {a}! Добро пожаловать в JupyterLab')"
   ]
  },
  {
   "cell_type": "markdown",
   "id": "a96ce9be-cc7b-402a-af57-6b743d699a67",
   "metadata": {},
   "source": [
    "## Задание 2. Работа с файлами\n",
    "\n",
    "**Цель**: изучить загрузку, создание и сохранение файлов в JupyterLab.\n",
    "\n",
    "**Задания**:\n",
    "\n",
    "1. Создайте и сохраните текстовый файл с помощью open().\n",
    "2. Запишите в него несколько строк текста.\n",
    "3. Закройте файл и затем откройте его снова, считав содержимое и выведя на экран.\n",
    "4. Проверьте, существует ли файл, используя os.path.exists().\n",
    "5. Удалите файл с помощью модуля os."
   ]
  },
  {
   "cell_type": "code",
   "execution_count": 2,
   "id": "5d948cb4-5d76-4396-a21f-0f2c7f121413",
   "metadata": {},
   "outputs": [
    {
     "name": "stdout",
     "output_type": "stream",
     "text": [
      "Содержимое файла:\n",
      " Первая строка\n",
      "Вторая строка\n",
      "\n",
      "Файл существует: True\n",
      "Файл удален.\n"
     ]
    }
   ],
   "source": [
    "import os\n",
    "\n",
    "with open(\"example.txt\", \"w\") as file:\n",
    "    file.write(\"Первая строка\\n\")\n",
    "    file.write(\"Вторая строка\\n\")\n",
    "\n",
    "with open(\"example.txt\", \"r\") as file:\n",
    "    content = file.read()\n",
    "\n",
    "print(\"Содержимое файла:\\n\", content)\n",
    "print(\"Файл существует:\", os.path.exists(\"example.txt\"))\n",
    "\n",
    "os.remove(\"example.txt\")\n",
    "print(\"Файл удален.\")"
   ]
  },
  {
   "cell_type": "markdown",
   "id": "ed3f79ef-eecb-453f-b128-0f2018311cd6",
   "metadata": {},
   "source": [
    "### Задание 3. Магические команды Jupyter\n",
    "\n",
    "**Цель**: изучить магические команды для удобной работы в JupyterLab.\n",
    "\n",
    "**Задания**:\n",
    "\n",
    "1. Выведите список всех доступных магических команд (`%lsmagic`).\n",
    "2. Используйте `%time` и `%%timeit` для измерения времени выполнения кода.\n",
    "3. Создайте Python-скрипт в Jupyter (`%%writefile script.py`) и выполните его\n",
    "через `!python script.py`.\n",
    "4. Выведите список файлов в текущей директории с помощью `%ls`.\n",
    "5. Используйте `%history` для просмотра истории команд."
   ]
  },
  {
   "cell_type": "code",
   "execution_count": 3,
   "id": "686be055-a227-4780-8807-b8a8604e7586",
   "metadata": {},
   "outputs": [
    {
     "data": {
      "application/json": {
       "cell": {
        "!": "OSMagics",
        "HTML": "Other",
        "SVG": "Other",
        "bash": "Other",
        "capture": "ExecutionMagics",
        "cmd": "Other",
        "code_wrap": "ExecutionMagics",
        "debug": "ExecutionMagics",
        "file": "Other",
        "html": "DisplayMagics",
        "javascript": "DisplayMagics",
        "js": "DisplayMagics",
        "latex": "DisplayMagics",
        "markdown": "DisplayMagics",
        "perl": "Other",
        "prun": "ExecutionMagics",
        "pypy": "Other",
        "python": "Other",
        "python2": "Other",
        "python3": "Other",
        "ruby": "Other",
        "script": "ScriptMagics",
        "sh": "Other",
        "svg": "DisplayMagics",
        "sx": "OSMagics",
        "system": "OSMagics",
        "time": "ExecutionMagics",
        "timeit": "ExecutionMagics",
        "writefile": "OSMagics"
       },
       "line": {
        "alias": "OSMagics",
        "alias_magic": "BasicMagics",
        "autoawait": "AsyncMagics",
        "autocall": "AutoMagics",
        "automagic": "AutoMagics",
        "autosave": "KernelMagics",
        "bookmark": "OSMagics",
        "cd": "OSMagics",
        "clear": "KernelMagics",
        "cls": "KernelMagics",
        "code_wrap": "ExecutionMagics",
        "colors": "BasicMagics",
        "conda": "PackagingMagics",
        "config": "ConfigMagics",
        "connect_info": "KernelMagics",
        "copy": "Other",
        "ddir": "Other",
        "debug": "ExecutionMagics",
        "dhist": "OSMagics",
        "dirs": "OSMagics",
        "doctest_mode": "BasicMagics",
        "echo": "Other",
        "ed": "Other",
        "edit": "KernelMagics",
        "env": "OSMagics",
        "gui": "BasicMagics",
        "hist": "Other",
        "history": "HistoryMagics",
        "killbgscripts": "ScriptMagics",
        "ldir": "Other",
        "less": "KernelMagics",
        "load": "CodeMagics",
        "load_ext": "ExtensionMagics",
        "loadpy": "CodeMagics",
        "logoff": "LoggingMagics",
        "logon": "LoggingMagics",
        "logstart": "LoggingMagics",
        "logstate": "LoggingMagics",
        "logstop": "LoggingMagics",
        "ls": "Other",
        "lsmagic": "BasicMagics",
        "macro": "ExecutionMagics",
        "magic": "BasicMagics",
        "mamba": "PackagingMagics",
        "matplotlib": "PylabMagics",
        "micromamba": "PackagingMagics",
        "mkdir": "Other",
        "more": "KernelMagics",
        "notebook": "BasicMagics",
        "page": "BasicMagics",
        "pastebin": "CodeMagics",
        "pdb": "ExecutionMagics",
        "pdef": "NamespaceMagics",
        "pdoc": "NamespaceMagics",
        "pfile": "NamespaceMagics",
        "pinfo": "NamespaceMagics",
        "pinfo2": "NamespaceMagics",
        "pip": "PackagingMagics",
        "popd": "OSMagics",
        "pprint": "BasicMagics",
        "precision": "BasicMagics",
        "prun": "ExecutionMagics",
        "psearch": "NamespaceMagics",
        "psource": "NamespaceMagics",
        "pushd": "OSMagics",
        "pwd": "OSMagics",
        "pycat": "OSMagics",
        "pylab": "PylabMagics",
        "qtconsole": "KernelMagics",
        "quickref": "BasicMagics",
        "recall": "HistoryMagics",
        "rehashx": "OSMagics",
        "reload_ext": "ExtensionMagics",
        "ren": "Other",
        "rep": "Other",
        "rerun": "HistoryMagics",
        "reset": "NamespaceMagics",
        "reset_selective": "NamespaceMagics",
        "rmdir": "Other",
        "run": "ExecutionMagics",
        "save": "CodeMagics",
        "sc": "OSMagics",
        "set_env": "OSMagics",
        "store": "StoreMagics",
        "sx": "OSMagics",
        "system": "OSMagics",
        "tb": "ExecutionMagics",
        "time": "ExecutionMagics",
        "timeit": "ExecutionMagics",
        "unalias": "OSMagics",
        "unload_ext": "ExtensionMagics",
        "who": "NamespaceMagics",
        "who_ls": "NamespaceMagics",
        "whos": "NamespaceMagics",
        "xdel": "NamespaceMagics",
        "xmode": "BasicMagics"
       }
      },
      "text/plain": [
       "Available line magics:\n",
       "%alias  %alias_magic  %autoawait  %autocall  %automagic  %autosave  %bookmark  %cd  %clear  %cls  %code_wrap  %colors  %conda  %config  %connect_info  %copy  %ddir  %debug  %dhist  %dirs  %doctest_mode  %echo  %ed  %edit  %env  %gui  %hist  %history  %killbgscripts  %ldir  %less  %load  %load_ext  %loadpy  %logoff  %logon  %logstart  %logstate  %logstop  %ls  %lsmagic  %macro  %magic  %mamba  %matplotlib  %micromamba  %mkdir  %more  %notebook  %page  %pastebin  %pdb  %pdef  %pdoc  %pfile  %pinfo  %pinfo2  %pip  %popd  %pprint  %precision  %prun  %psearch  %psource  %pushd  %pwd  %pycat  %pylab  %qtconsole  %quickref  %recall  %rehashx  %reload_ext  %ren  %rep  %rerun  %reset  %reset_selective  %rmdir  %run  %save  %sc  %set_env  %store  %sx  %system  %tb  %time  %timeit  %unalias  %unload_ext  %who  %who_ls  %whos  %xdel  %xmode\n",
       "\n",
       "Available cell magics:\n",
       "%%!  %%HTML  %%SVG  %%bash  %%capture  %%cmd  %%code_wrap  %%debug  %%file  %%html  %%javascript  %%js  %%latex  %%markdown  %%perl  %%prun  %%pypy  %%python  %%python2  %%python3  %%ruby  %%script  %%sh  %%svg  %%sx  %%system  %%time  %%timeit  %%writefile\n",
       "\n",
       "Automagic is ON, % prefix IS NOT needed for line magics."
      ]
     },
     "execution_count": 3,
     "metadata": {},
     "output_type": "execute_result"
    }
   ],
   "source": [
    "%lsmagic"
   ]
  },
  {
   "cell_type": "code",
   "execution_count": 5,
   "id": "855397ab-a238-47be-a826-40956abd5411",
   "metadata": {},
   "outputs": [
    {
     "name": "stdout",
     "output_type": "stream",
     "text": [
      "CPU times: total: 406 ms\n",
      "Wall time: 413 ms\n"
     ]
    },
    {
     "data": {
      "text/plain": [
       "76205271551311"
      ]
     },
     "execution_count": 5,
     "metadata": {},
     "output_type": "execute_result"
    }
   ],
   "source": [
    "%time sum(range(12345467))"
   ]
  },
  {
   "cell_type": "code",
   "execution_count": 1,
   "id": "9d4462a0-c4b1-4bbf-abe8-9360474c4397",
   "metadata": {},
   "outputs": [
    {
     "name": "stdout",
     "output_type": "stream",
     "text": [
      "108 ms ± 4.95 ms per loop (mean ± std. dev. of 7 runs, 1 loop each)\n"
     ]
    }
   ],
   "source": [
    "%%timeit\n",
    "total = 0\n",
    "for i in range(1000000):\n",
    "    total += i"
   ]
  },
  {
   "cell_type": "code",
   "execution_count": 2,
   "id": "fd186f18-e55f-4cac-95f6-5c0524128764",
   "metadata": {},
   "outputs": [
    {
     "name": "stdout",
     "output_type": "stream",
     "text": [
      "Writing my_script.py\n"
     ]
    }
   ],
   "source": [
    "%%writefile my_script.py\n",
    "print(\"Привет, мир!\")"
   ]
  },
  {
   "cell_type": "code",
   "execution_count": 3,
   "id": "0f9dbd20-35af-444d-81d5-b3e449bd2342",
   "metadata": {},
   "outputs": [
    {
     "name": "stdout",
     "output_type": "stream",
     "text": [
      "Привет, мир!\n"
     ]
    }
   ],
   "source": [
    "!python my_script.py"
   ]
  },
  {
   "cell_type": "markdown",
   "id": "2f9b5f7e-c3e9-4704-9155-10f674fa7b5e",
   "metadata": {},
   "source": [
    "## Задание 4. Взаимодействие с оболочкой системы\n",
    "\n",
    "**Цель**: изучить выполнение команд терминала прямо из JupyterLab\n",
    "\n",
    "**Задания**:\n",
    "\n",
    "1. Выведите список файлов в текущей директории с помощью `!ls`.\n",
    "2. Проверьте, какой Python используется (`!where python`).\n",
    "3. Создайте папку `test_folder` (`!mkdir test_folder`) и убедитесь, что она\n",
    "появилась.\n",
    "4. Переместите файл в новую папку и удалите его.\n",
    "5. Очистите вывод в ячейке (`!clear`)."
   ]
  },
  {
   "cell_type": "code",
   "execution_count": 1,
   "id": "135465b7-00c7-4e8d-b05e-3dbb3070eefe",
   "metadata": {},
   "outputs": [
    {
     "name": "stdout",
     "output_type": "stream",
     "text": [
      " Volume in drive C is Windows 10\n",
      " Volume Serial Number is 12B4-7D25\n",
      "\n",
      " Directory of C:\\Users\\user\\РїР°Р№С‚РѕРЅ\n",
      "\n",
      "20.05.2025  22:32    <DIR>          .\n",
      "20.05.2025  22:32    <DIR>          ..\n",
      "20.05.2025  22:32    <DIR>          .ipynb_checkpoints\n",
      "20.05.2025  22:31            44В 694 1-4 zadanie.ipynb\n",
      "13.05.2025  20:12            72В 478 examples.ipynb\n",
      "20.05.2025  22:18                32 my_script.py\n",
      "20.05.2025  22:05           115В 384 nvrsk_bay.webp\n",
      "20.05.2025  22:31            15В 879 tasks_1-4.ipynb\n",
      "20.05.2025  22:21    <DIR>          test1_folder\n",
      "               5 File(s)        248В 467 bytes\n",
      "               4 Dir(s)  15В 435В 988В 992 bytes free\n"
     ]
    }
   ],
   "source": [
    "%ls"
   ]
  },
  {
   "cell_type": "code",
   "execution_count": 5,
   "id": "a7c2f9fe-ad64-4854-8385-f41b61e1d86b",
   "metadata": {},
   "outputs": [
    {
     "name": "stdout",
     "output_type": "stream",
     "text": [
      "F:\\Anaconda\\python.exe\n",
      "C:\\Program Files\\Python313\\python.exe\n",
      "C:\\Users\\user\\AppData\\Local\\Microsoft\\WindowsApps\\python.exe\n"
     ]
    }
   ],
   "source": [
    "!where python"
   ]
  },
  {
   "cell_type": "code",
   "execution_count": 6,
   "id": "1dd3e558-d1df-4d25-894a-09cd28bfbb66",
   "metadata": {},
   "outputs": [
    {
     "name": "stdout",
     "output_type": "stream",
     "text": [
      " Volume in drive C is Windows 10\n",
      " Volume Serial Number is 12B4-7D25\n",
      "\n",
      " Directory of C:\\Users\\user\\РїР°Р№С‚РѕРЅ\n",
      "\n",
      "20.05.2025  22:39    <DIR>          .\n",
      "20.05.2025  22:39    <DIR>          ..\n",
      "20.05.2025  22:32    <DIR>          .ipynb_checkpoints\n",
      "20.05.2025  22:31            44В 694 1-4 zadanie.ipynb\n",
      "13.05.2025  20:12            72В 478 examples.ipynb\n",
      "20.05.2025  22:18                32 my_script.py\n",
      "20.05.2025  22:05           115В 384 nvrsk_bay.webp\n",
      "20.05.2025  22:38            18В 639 tasks_1-4.ipynb\n",
      "20.05.2025  22:37    <DIR>          test1_folder\n",
      "20.05.2025  22:39    <DIR>          test_folder\n",
      "               5 File(s)        251В 227 bytes\n",
      "               5 Dir(s)  15В 419В 858В 944 bytes free\n"
     ]
    }
   ],
   "source": [
    "!mkdir test_folder\n",
    "!dir"
   ]
  },
  {
   "cell_type": "code",
   "execution_count": 7,
   "id": "dc6a7590-df6b-4a8b-94cf-40c18ecad5ac",
   "metadata": {},
   "outputs": [
    {
     "name": "stdout",
     "output_type": "stream",
     "text": [
      "        1 file(s) moved.\n",
      " Volume in drive C is Windows 10\n",
      " Volume Serial Number is 12B4-7D25\n",
      "\n",
      " Directory of C:\\Users\\user\\РїР°Р№С‚РѕРЅ\\test_folder\n",
      "\n",
      "20.05.2025  22:39    <DIR>          .\n",
      "20.05.2025  22:39    <DIR>          ..\n",
      "20.05.2025  22:39                 2 example.txt\n",
      "               1 File(s)              2 bytes\n",
      "               2 Dir(s)  15В 419В 858В 944 bytes free\n",
      " Volume in drive C is Windows 10\n",
      " Volume Serial Number is 12B4-7D25\n",
      "\n",
      " Directory of C:\\Users\\user\\РїР°Р№С‚РѕРЅ\\test_folder\n",
      "\n",
      "20.05.2025  22:39    <DIR>          .\n",
      "20.05.2025  22:39    <DIR>          ..\n",
      "               0 File(s)              0 bytes\n",
      "               2 Dir(s)  15В 419В 858В 944 bytes free\n",
      "\f",
      "\n"
     ]
    }
   ],
   "source": [
    "!echo.> example.txt\n",
    "!move example.txt test_folder/\n",
    "!dir test_folder\n",
    "!del test_folder\\example.txt\n",
    "!dir test_folder\n",
    "%clear"
   ]
  }
 ],
 "metadata": {
  "kernelspec": {
   "display_name": "Python 3 (ipykernel)",
   "language": "python",
   "name": "python3"
  },
  "language_info": {
   "codemirror_mode": {
    "name": "ipython",
    "version": 3
   },
   "file_extension": ".py",
   "mimetype": "text/x-python",
   "name": "python",
   "nbconvert_exporter": "python",
   "pygments_lexer": "ipython3",
   "version": "3.12.7"
  }
 },
 "nbformat": 4,
 "nbformat_minor": 5
}
