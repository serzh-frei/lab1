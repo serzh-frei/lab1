{
 "cells": [
  {
   "cell_type": "markdown",
   "metadata": {
    "id": "taYs02YwQljU"
   },
   "source": [
    "## Задание 5. Работа с Google Drive в Google Colab\n",
    "\n",
    "**Цель**: научиться подключать Google Drive, загружать и сохранять файлы, работать с обычными текстовыми файлами.\n",
    "\n",
    "**Задания**:\n",
    "\n",
    "1. **Подключите Google Drive** к Colab с помощью команды:\n",
    "\n",
    "    ```\n",
    "    from google.colab import drive\n",
    "    drive.mount('/content/drive')\n",
    "    ```\n",
    "   \n",
    "    Проверьте, что ваш диск успешно подключился, используя  `!ls /content/drive/MyDrive`\n",
    "2. **Создайте и сохраните текстовый файл** в Google Drive:\n",
    "    + Откройте файл  `my_text_file.txt`  в режиме записи.\n",
    "    + Запишите в него несколько строк текста.\n",
    "    + Закройте файл и убедитесь, что он появился в папке  MyDrive.\n",
    "3. **Прочитайте файл из Google Drive**:\n",
    "    + Откройте ранее созданный файл.\n",
    "    + Считайте его содержимое и выведите в ячейке.\n",
    "4. **Создайте и сохраните CSV-файл вручную, используя Microsoft Excell или Libre Office Calc**:\n",
    "    + Создайте список, в котором будут строки с данными о студентах (например, ФИО, возраст, группа).\n",
    "    + Запишите этот список в CSV-файл в Google Drive вручную, используя стандартные методы записи в файл."
   ]
  },
  {
   "cell_type": "code",
   "execution_count": 1,
   "metadata": {
    "colab": {
     "base_uri": "https://localhost:8080/"
    },
    "id": "YybhNjBmQrAb",
    "outputId": "cfea2409-7982-432b-a5f2-9dd89befe442"
   },
   "outputs": [
    {
     "name": "stdout",
     "output_type": "stream",
     "text": [
      "Mounted at /content/drive\n",
      "Файл успешно сохранен в Google Drive.\n",
      "Содержимое файла:\n",
      " Это тестовый файл, сохраненный в Google Drive.\n",
      "Вторая строка текста.\n",
      "Файл students.csv успешно сохранен в Google Drive.\n"
     ]
    }
   ],
   "source": [
    "from google.colab import drive\n",
    "# Подключение Google Drive\n",
    "drive.mount('/content/drive')\n",
    "# Запись текста в файл\n",
    "file_path = \"/content/drive/MyDrive/my_text_file.txt\"\n",
    "with open(file_path, \"w\") as f:\n",
    "  f.write(\"Это тестовый файл, сохраненный в Google Drive.\\n\")\n",
    "  f.write(\"Вторая строка текста.\")\n",
    "print(\"Файл успешно сохранен в Google Drive.\")\n",
    "# Чтение файла\n",
    "with open(file_path, \"r\") as f:\n",
    "    content = f.read()\n",
    "print(\"Содержимое файла:\\n\", content)\n",
    "# Создание CSV вручную\n",
    "students = [\n",
    "[\"Иванов И.И.\", 20, \"ИВТ-101\"],\n",
    "[\"Петров П.П.\", 22, \"ИВТ-102\"],\n",
    "[\"Сидорова А.А.\", 21, \"ИВТ-103\"]\n",
    "]\n",
    "csv_path = \"/content/drive/MyDrive/students.csv\"\n",
    "with open(csv_path, \"w\") as f:\n",
    "  for student in students:\n",
    "    f.write(\",\".join(map(str, student)) + \"\\n\")\n",
    "print(\"Файл students.csv успешно сохранен в Google Drive.\")\n"
   ]
  }
 ],
 "metadata": {
  "colab": {
   "provenance": []
  },
  "kernelspec": {
   "display_name": "Python 3 (ipykernel)",
   "language": "python",
   "name": "python3"
  },
  "language_info": {
   "codemirror_mode": {
    "name": "ipython",
    "version": 3
   },
   "file_extension": ".py",
   "mimetype": "text/x-python",
   "name": "python",
   "nbconvert_exporter": "python",
   "pygments_lexer": "ipython3",
   "version": "3.12.7"
  }
 },
 "nbformat": 4,
 "nbformat_minor": 4
}
